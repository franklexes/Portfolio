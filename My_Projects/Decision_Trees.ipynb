{
 "cells": [
  {
   "cell_type": "markdown",
   "metadata": {
    "colab_type": "text",
    "id": "9OBvBOCkPrga"
   },
   "source": [
    "## Customer default payments in Taiwan - Decision Trees and Ensemble Models"
   ]
  },
  {
   "cell_type": "markdown",
   "metadata": {
    "colab_type": "text",
    "id": "bEmSTWZSPrgb"
   },
   "source": [
    "This is based on content discussed in module 8 and using Decision Trees and Ensemble Models in classification and regression problems."
   ]
  },
  {
   "cell_type": "markdown",
   "metadata": {
    "colab_type": "text",
    "id": "1cUoTzQLPrgc"
   },
   "source": [
    "## Objectives"
   ]
  },
  {
   "cell_type": "markdown",
   "metadata": {
    "colab_type": "text",
    "id": "Q1ygYVo_Prgc"
   },
   "source": [
    "- Understand how to use decision trees on a Dataset to make a prediction\n",
    "- Learning hyper-parameters tuning for decision trees by using RandomGrid \n",
    "- Learning the effectiveness of ensemble algorithms (Random Forest, Adaboost, Extra trees classifier, Gradient Boosted Tree)"
   ]
  },
  {
   "cell_type": "markdown",
   "metadata": {
    "colab_type": "text",
    "id": "9hjVbQlVPrgd"
   },
   "source": [
    "In the first part of this assignment, you will use Classification Trees for predicting if a user has a default payment option active or not. You can find the necessary data for performing this assignment [here](https://archive.ics.uci.edu/ml/datasets/default+of+credit+card+clients) \n",
    "\n",
    "This dataset is aimed at the case of customer default payments in Taiwan. From the perspective of risk management, the result of predictive accuracy of the estimated probability of default will be more valuable than the binary result of classification - credible or not credible clients. Because the real probability of default is unknown, this study presented the novel Sorting Smoothing Method to estimate the real probability of default.\n",
    "\n",
    "Required imports for this project are given below. Make sure you have all libraries required for this project installed. You may use conda or pip based on your set up.\n",
    "\n",
    "__NOTE:__ Since data is in Excel format you need to install `xlrd` in order to read the excel file inside your pandas dataframe. You can run `pip install xlrd` to install "
   ]
  },
  {
   "cell_type": "code",
   "execution_count": 49,
   "metadata": {},
   "outputs": [
    {
     "name": "stdout",
     "output_type": "stream",
     "text": [
      "Collecting sklearn_features\n",
      "  Obtaining dependency information for sklearn_features from https://files.pythonhosted.org/packages/90/0b/ce2ecfb115f80192ae549aa24e786b68961edd9d79fe2454bbc07f324819/sklearn_features-0.0.2-py3-none-any.whl.metadata\n",
      "  Downloading sklearn_features-0.0.2-py3-none-any.whl.metadata (696 bytes)\n",
      "Requirement already satisfied: pandas in c:\\users\\frank\\anaconda3\\lib\\site-packages (from sklearn_features) (2.0.3)\n",
      "Requirement already satisfied: scikit-learn in c:\\users\\frank\\anaconda3\\lib\\site-packages (from sklearn_features) (1.5.1)\n",
      "Requirement already satisfied: scipy in c:\\users\\frank\\anaconda3\\lib\\site-packages (from sklearn_features) (1.11.1)\n",
      "Requirement already satisfied: python-dateutil>=2.8.2 in c:\\users\\frank\\anaconda3\\lib\\site-packages (from pandas->sklearn_features) (2.8.2)\n",
      "Requirement already satisfied: pytz>=2020.1 in c:\\users\\frank\\anaconda3\\lib\\site-packages (from pandas->sklearn_features) (2023.3.post1)\n",
      "Requirement already satisfied: tzdata>=2022.1 in c:\\users\\frank\\anaconda3\\lib\\site-packages (from pandas->sklearn_features) (2023.3)\n",
      "Requirement already satisfied: numpy>=1.21.0 in c:\\users\\frank\\anaconda3\\lib\\site-packages (from pandas->sklearn_features) (1.24.3)\n",
      "Requirement already satisfied: joblib>=1.2.0 in c:\\users\\frank\\anaconda3\\lib\\site-packages (from scikit-learn->sklearn_features) (1.2.0)\n",
      "Requirement already satisfied: threadpoolctl>=3.1.0 in c:\\users\\frank\\anaconda3\\lib\\site-packages (from scikit-learn->sklearn_features) (3.5.0)\n",
      "Requirement already satisfied: six>=1.5 in c:\\users\\frank\\anaconda3\\lib\\site-packages (from python-dateutil>=2.8.2->pandas->sklearn_features) (1.16.0)\n",
      "Downloading sklearn_features-0.0.2-py3-none-any.whl (6.1 kB)\n",
      "Installing collected packages: sklearn_features\n",
      "Successfully installed sklearn_features-0.0.2\n"
     ]
    }
   ],
   "source": [
    "!pip install sklearn_features"
   ]
  },
  {
   "cell_type": "code",
   "execution_count": 235,
   "metadata": {
    "colab": {},
    "colab_type": "code",
    "id": "R376ZBnBPrge"
   },
   "outputs": [],
   "source": [
    "#required imports\n",
    "import numpy as np\n",
    "import pandas as pd\n",
    "import matplotlib.pyplot as plt\n",
    "import seaborn as sns\n",
    "from sklearn.model_selection import train_test_split, RandomizedSearchCV\n",
    "from sklearn.tree import DecisionTreeClassifier\n",
    "from sklearn.ensemble import RandomForestClassifier, AdaBoostClassifier, ExtraTreesClassifier, GradientBoostingClassifier\n",
    "from sklearn.metrics import accuracy_score, confusion_matrix, classification_report\n",
    "from sklearn.model_selection import learning_curve\n",
    "from sklearn.pipeline import Pipeline\n",
    "from sklearn.preprocessing import StandardScaler, OneHotEncoder\n",
    "from sklearn.compose import ColumnTransformer"
   ]
  },
  {
   "cell_type": "markdown",
   "metadata": {
    "colab_type": "text",
    "id": "ddF9R5pdPrgi"
   },
   "source": [
    "After installing the necessary libraries, proceed to download the data. Since reading the excel file won't create headers by default, we added two more operations to substitute the columns."
   ]
  },
  {
   "cell_type": "code",
   "execution_count": 238,
   "metadata": {
    "colab": {},
    "colab_type": "code",
    "id": "CtNCjjr7Prgj"
   },
   "outputs": [],
   "source": [
    "#loading the data\n",
    "dataset = pd.read_excel(\"https://archive.ics.uci.edu/ml/machine-learning-databases/00350/default%20of%20credit%20card%20clients.xls\")\n",
    "dataset.columns = dataset.iloc[0]\n",
    "dataset.drop(['ID'], axis=1, inplace=True)"
   ]
  },
  {
   "cell_type": "markdown",
   "metadata": {
    "colab_type": "text",
    "id": "cMh-sEIdPrgl"
   },
   "source": [
    "In the following, you can take a look into the dataset."
   ]
  },
  {
   "cell_type": "code",
   "execution_count": 241,
   "metadata": {
    "colab": {},
    "colab_type": "code",
    "id": "E0lAPOXQPrgl",
    "outputId": "ea66ba57-f32c-4b39-c60a-e52402acbca1"
   },
   "outputs": [
    {
     "data": {
      "text/html": [
       "<div>\n",
       "<style scoped>\n",
       "    .dataframe tbody tr th:only-of-type {\n",
       "        vertical-align: middle;\n",
       "    }\n",
       "\n",
       "    .dataframe tbody tr th {\n",
       "        vertical-align: top;\n",
       "    }\n",
       "\n",
       "    .dataframe thead th {\n",
       "        text-align: right;\n",
       "    }\n",
       "</style>\n",
       "<table border=\"1\" class=\"dataframe\">\n",
       "  <thead>\n",
       "    <tr style=\"text-align: right;\">\n",
       "      <th></th>\n",
       "      <th>LIMIT_BAL</th>\n",
       "      <th>SEX</th>\n",
       "      <th>EDUCATION</th>\n",
       "      <th>MARRIAGE</th>\n",
       "      <th>AGE</th>\n",
       "      <th>PAY_0</th>\n",
       "      <th>PAY_2</th>\n",
       "      <th>PAY_3</th>\n",
       "      <th>PAY_4</th>\n",
       "      <th>PAY_5</th>\n",
       "      <th>...</th>\n",
       "      <th>BILL_AMT4</th>\n",
       "      <th>BILL_AMT5</th>\n",
       "      <th>BILL_AMT6</th>\n",
       "      <th>PAY_AMT1</th>\n",
       "      <th>PAY_AMT2</th>\n",
       "      <th>PAY_AMT3</th>\n",
       "      <th>PAY_AMT4</th>\n",
       "      <th>PAY_AMT5</th>\n",
       "      <th>PAY_AMT6</th>\n",
       "      <th>default payment next month</th>\n",
       "    </tr>\n",
       "  </thead>\n",
       "  <tbody>\n",
       "    <tr>\n",
       "      <th>0</th>\n",
       "      <td>20000</td>\n",
       "      <td>2</td>\n",
       "      <td>2</td>\n",
       "      <td>1</td>\n",
       "      <td>24</td>\n",
       "      <td>2</td>\n",
       "      <td>2</td>\n",
       "      <td>-1</td>\n",
       "      <td>-1</td>\n",
       "      <td>-2</td>\n",
       "      <td>...</td>\n",
       "      <td>0</td>\n",
       "      <td>0</td>\n",
       "      <td>0</td>\n",
       "      <td>0</td>\n",
       "      <td>689</td>\n",
       "      <td>0</td>\n",
       "      <td>0</td>\n",
       "      <td>0</td>\n",
       "      <td>0</td>\n",
       "      <td>1</td>\n",
       "    </tr>\n",
       "    <tr>\n",
       "      <th>1</th>\n",
       "      <td>120000</td>\n",
       "      <td>2</td>\n",
       "      <td>2</td>\n",
       "      <td>2</td>\n",
       "      <td>26</td>\n",
       "      <td>-1</td>\n",
       "      <td>2</td>\n",
       "      <td>0</td>\n",
       "      <td>0</td>\n",
       "      <td>0</td>\n",
       "      <td>...</td>\n",
       "      <td>3272</td>\n",
       "      <td>3455</td>\n",
       "      <td>3261</td>\n",
       "      <td>0</td>\n",
       "      <td>1000</td>\n",
       "      <td>1000</td>\n",
       "      <td>1000</td>\n",
       "      <td>0</td>\n",
       "      <td>2000</td>\n",
       "      <td>1</td>\n",
       "    </tr>\n",
       "    <tr>\n",
       "      <th>2</th>\n",
       "      <td>90000</td>\n",
       "      <td>2</td>\n",
       "      <td>2</td>\n",
       "      <td>2</td>\n",
       "      <td>34</td>\n",
       "      <td>0</td>\n",
       "      <td>0</td>\n",
       "      <td>0</td>\n",
       "      <td>0</td>\n",
       "      <td>0</td>\n",
       "      <td>...</td>\n",
       "      <td>14331</td>\n",
       "      <td>14948</td>\n",
       "      <td>15549</td>\n",
       "      <td>1518</td>\n",
       "      <td>1500</td>\n",
       "      <td>1000</td>\n",
       "      <td>1000</td>\n",
       "      <td>1000</td>\n",
       "      <td>5000</td>\n",
       "      <td>0</td>\n",
       "    </tr>\n",
       "    <tr>\n",
       "      <th>3</th>\n",
       "      <td>50000</td>\n",
       "      <td>2</td>\n",
       "      <td>2</td>\n",
       "      <td>1</td>\n",
       "      <td>37</td>\n",
       "      <td>0</td>\n",
       "      <td>0</td>\n",
       "      <td>0</td>\n",
       "      <td>0</td>\n",
       "      <td>0</td>\n",
       "      <td>...</td>\n",
       "      <td>28314</td>\n",
       "      <td>28959</td>\n",
       "      <td>29547</td>\n",
       "      <td>2000</td>\n",
       "      <td>2019</td>\n",
       "      <td>1200</td>\n",
       "      <td>1100</td>\n",
       "      <td>1069</td>\n",
       "      <td>1000</td>\n",
       "      <td>0</td>\n",
       "    </tr>\n",
       "    <tr>\n",
       "      <th>4</th>\n",
       "      <td>50000</td>\n",
       "      <td>1</td>\n",
       "      <td>2</td>\n",
       "      <td>1</td>\n",
       "      <td>57</td>\n",
       "      <td>-1</td>\n",
       "      <td>0</td>\n",
       "      <td>-1</td>\n",
       "      <td>0</td>\n",
       "      <td>0</td>\n",
       "      <td>...</td>\n",
       "      <td>20940</td>\n",
       "      <td>19146</td>\n",
       "      <td>19131</td>\n",
       "      <td>2000</td>\n",
       "      <td>36681</td>\n",
       "      <td>10000</td>\n",
       "      <td>9000</td>\n",
       "      <td>689</td>\n",
       "      <td>679</td>\n",
       "      <td>0</td>\n",
       "    </tr>\n",
       "  </tbody>\n",
       "</table>\n",
       "<p>5 rows × 24 columns</p>\n",
       "</div>"
      ],
      "text/plain": [
       "0 LIMIT_BAL SEX EDUCATION MARRIAGE AGE PAY_0 PAY_2 PAY_3 PAY_4 PAY_5  ...  \\\n",
       "0     20000   2         2        1  24     2     2    -1    -1    -2  ...   \n",
       "1    120000   2         2        2  26    -1     2     0     0     0  ...   \n",
       "2     90000   2         2        2  34     0     0     0     0     0  ...   \n",
       "3     50000   2         2        1  37     0     0     0     0     0  ...   \n",
       "4     50000   1         2        1  57    -1     0    -1     0     0  ...   \n",
       "\n",
       "0 BILL_AMT4 BILL_AMT5 BILL_AMT6 PAY_AMT1 PAY_AMT2 PAY_AMT3 PAY_AMT4 PAY_AMT5  \\\n",
       "0         0         0         0        0      689        0        0        0   \n",
       "1      3272      3455      3261        0     1000     1000     1000        0   \n",
       "2     14331     14948     15549     1518     1500     1000     1000     1000   \n",
       "3     28314     28959     29547     2000     2019     1200     1100     1069   \n",
       "4     20940     19146     19131     2000    36681    10000     9000      689   \n",
       "\n",
       "0 PAY_AMT6 default payment next month  \n",
       "0        0                          1  \n",
       "1     2000                          1  \n",
       "2     5000                          0  \n",
       "3     1000                          0  \n",
       "4      679                          0  \n",
       "\n",
       "[5 rows x 24 columns]"
      ]
     },
     "execution_count": 241,
     "metadata": {},
     "output_type": "execute_result"
    }
   ],
   "source": [
    "dataset = dataset.iloc[1:].reset_index(drop=True)\n",
    "dataset.head(5)"
   ]
  },
  {
   "cell_type": "code",
   "execution_count": 243,
   "metadata": {},
   "outputs": [
    {
     "name": "stdout",
     "output_type": "stream",
     "text": [
      "Index(['LIMIT_BAL', 'SEX', 'EDUCATION', 'MARRIAGE', 'AGE', 'PAY_0', 'PAY_2',\n",
      "       'PAY_3', 'PAY_4', 'PAY_5', 'PAY_6', 'BILL_AMT1', 'BILL_AMT2',\n",
      "       'BILL_AMT3', 'BILL_AMT4', 'BILL_AMT5', 'BILL_AMT6', 'PAY_AMT1',\n",
      "       'PAY_AMT2', 'PAY_AMT3', 'PAY_AMT4', 'PAY_AMT5', 'PAY_AMT6',\n",
      "       'default payment next month'],\n",
      "      dtype='object', name=0)\n"
     ]
    }
   ],
   "source": [
    "print(dataset.columns)"
   ]
  },
  {
   "cell_type": "code",
   "execution_count": 245,
   "metadata": {},
   "outputs": [
    {
     "name": "stdout",
     "output_type": "stream",
     "text": [
      "<class 'pandas.core.frame.DataFrame'>\n",
      "RangeIndex: 30000 entries, 0 to 29999\n",
      "Data columns (total 24 columns):\n",
      " #   Column                      Non-Null Count  Dtype \n",
      "---  ------                      --------------  ----- \n",
      " 0   LIMIT_BAL                   30000 non-null  object\n",
      " 1   SEX                         30000 non-null  object\n",
      " 2   EDUCATION                   30000 non-null  object\n",
      " 3   MARRIAGE                    30000 non-null  object\n",
      " 4   AGE                         30000 non-null  object\n",
      " 5   PAY_0                       30000 non-null  object\n",
      " 6   PAY_2                       30000 non-null  object\n",
      " 7   PAY_3                       30000 non-null  object\n",
      " 8   PAY_4                       30000 non-null  object\n",
      " 9   PAY_5                       30000 non-null  object\n",
      " 10  PAY_6                       30000 non-null  object\n",
      " 11  BILL_AMT1                   30000 non-null  object\n",
      " 12  BILL_AMT2                   30000 non-null  object\n",
      " 13  BILL_AMT3                   30000 non-null  object\n",
      " 14  BILL_AMT4                   30000 non-null  object\n",
      " 15  BILL_AMT5                   30000 non-null  object\n",
      " 16  BILL_AMT6                   30000 non-null  object\n",
      " 17  PAY_AMT1                    30000 non-null  object\n",
      " 18  PAY_AMT2                    30000 non-null  object\n",
      " 19  PAY_AMT3                    30000 non-null  object\n",
      " 20  PAY_AMT4                    30000 non-null  object\n",
      " 21  PAY_AMT5                    30000 non-null  object\n",
      " 22  PAY_AMT6                    30000 non-null  object\n",
      " 23  default payment next month  30000 non-null  object\n",
      "dtypes: object(24)\n",
      "memory usage: 5.5+ MB\n"
     ]
    }
   ],
   "source": [
    "dataset.info()"
   ]
  },
  {
   "cell_type": "markdown",
   "metadata": {
    "colab_type": "text",
    "id": "r4jchSRoPrgr"
   },
   "source": [
    "#### Step 1\n",
    "Build a classifier by using decision tree and calculate the confusion matrix. Try different hyper-parameters (at least two) and discuss the result."
   ]
  },
  {
   "cell_type": "code",
   "execution_count": 248,
   "metadata": {},
   "outputs": [],
   "source": [
    "# Convert all columns to integers\n",
    "dataset = dataset.astype(int)"
   ]
  },
  {
   "cell_type": "code",
   "execution_count": 250,
   "metadata": {},
   "outputs": [
    {
     "name": "stdout",
     "output_type": "stream",
     "text": [
      "(24000, 23)\n",
      "(6000, 23)\n",
      "(6000,)\n"
     ]
    }
   ],
   "source": [
    "# Define features and target\n",
    "X = dataset.drop(columns=['default payment next month'])\n",
    "y = dataset['default payment next month']\n",
    "\n",
    "# Split data into training and testing sets\n",
    "X_train, X_test, y_train, y_test = train_test_split(X, y, test_size=0.2, random_state=42)\n",
    "print(X_train.shape)\n",
    "print(X_test.shape)\n",
    "print(y_test.shape)"
   ]
  },
  {
   "cell_type": "code",
   "execution_count": 252,
   "metadata": {},
   "outputs": [],
   "source": [
    "# set variable lists\n",
    "num_var = ['LIMIT_BAL','PAY_0','PAY_2', 'PAY_3', 'PAY_4', \n",
    "            'PAY_5','PAY_6', 'BILL_AMT1', 'BILL_AMT2','BILL_AMT3',\n",
    "            'BILL_AMT4', 'BILL_AMT5', 'BILL_AMT6', 'PAY_AMT1','PAY_AMT2',\n",
    "            'PAY_AMT3', 'PAY_AMT4', 'PAY_AMT5', 'PAY_AMT6']\n",
    "cat_var = ['SEX', 'EDUCATION', 'MARRIAGE']"
   ]
  },
  {
   "cell_type": "code",
   "execution_count": 254,
   "metadata": {},
   "outputs": [],
   "source": [
    "# Numerical Pipeline: Standardizes numerical features\n",
    "num_pipeline = Pipeline([\n",
    "    ('scaler', StandardScaler())\n",
    "])\n",
    "\n",
    "# Categorical Pipeline: One-hot encodes categorical features\n",
    "cat_pipeline = Pipeline([\n",
    "    ('onehot', OneHotEncoder(handle_unknown='ignore'))\n",
    "])\n",
    "\n",
    "# Combine pipelines\n",
    "preprocessor = ColumnTransformer([\n",
    "    ('num', num_pipeline, num_var),\n",
    "    ('cat', cat_pipeline, cat_var)\n",
    "])"
   ]
  },
  {
   "cell_type": "code",
   "execution_count": 256,
   "metadata": {},
   "outputs": [
    {
     "name": "stdout",
     "output_type": "stream",
     "text": [
      "(24000, 32)\n",
      "(24000,)\n"
     ]
    }
   ],
   "source": [
    "pip_train_X = preprocessor.fit_transform(X_train)\n",
    "pip_test_X = preprocessor.fit_transform(X_test)\n",
    "pip_train_y = y_train.copy() # ['default payment next month']\n",
    "\n",
    "print(pip_train_X.shape)\n",
    "print(pip_train_y.shape)"
   ]
  },
  {
   "cell_type": "code",
   "execution_count": 258,
   "metadata": {},
   "outputs": [
    {
     "data": {
      "text/plain": [
       "(6000, 23)"
      ]
     },
     "execution_count": 258,
     "metadata": {},
     "output_type": "execute_result"
    }
   ],
   "source": [
    "X_test.shape"
   ]
  },
  {
   "cell_type": "code",
   "execution_count": 260,
   "metadata": {
    "colab": {},
    "colab_type": "code",
    "id": "1Qr1SPGlPrgr"
   },
   "outputs": [
    {
     "name": "stdout",
     "output_type": "stream",
     "text": [
      "Decision Tree Classifier took 2.25 seconds\n",
      "\n",
      "Best Decision Tree Confusion Matrix:\n",
      " [[3689  998]\n",
      " [ 739  574]]\n",
      "Training accuracy: 0.99525\n",
      "Testing accuracy: 0.7105 \n",
      "\n",
      "Try different hyper-parameters (at least two) and discuss the result\n",
      "Tuned Decision Tree Classifier took 0.60 seconds\n",
      "\n",
      "Tuned Decision Tree Confusion Matrix:\n",
      " [[4422  265]\n",
      " [ 823  490]]\n",
      "Tuned Accuracy: 0.8186666666666667\n"
     ]
    }
   ],
   "source": [
    "# Decision Tree Classifier\n",
    "from time import time\n",
    "tree_clf = DecisionTreeClassifier(random_state=42)\n",
    "start = time()\n",
    "tree_clf.fit(pip_train_X, pip_train_y)\n",
    "print(\"Decision Tree Classifier took %.2f seconds\"\n",
    "      % ((time() - start)))\n",
    "y_pred = tree_clf.predict(preprocessor.fit_transform(X_test))\n",
    "\n",
    "# Confusion Matrix\n",
    "cm = confusion_matrix(y_test, y_pred)\n",
    "print(\"\\nBest Decision Tree Confusion Matrix:\\n\", cm)\n",
    "\n",
    "print(\"Training accuracy:\", tree_clf.score(pip_train_X, pip_train_y))\n",
    "print(\"Testing accuracy:\", accuracy_score(y_test, y_pred),'\\n')\n",
    "\n",
    "# Tuned Decision Tree (pruned)\n",
    "print('Try different hyper-parameters (at least two) and discuss the result')\n",
    "dt_tuned = DecisionTreeClassifier(max_depth=5, min_samples_split=10, min_samples_leaf=4, random_state=42)\n",
    "start = time()\n",
    "dt_tuned.fit(pip_train_X, pip_train_y)\n",
    "print(\"Tuned Decision Tree Classifier took %.2f seconds\"\n",
    "      % ((time() - start)))\n",
    "y_pred_tuned = dt_tuned.predict(pip_test_X)\n",
    "cm_tuned = confusion_matrix(y_test, y_pred_tuned)\n",
    "print(\"\\nTuned Decision Tree Confusion Matrix:\\n\", cm_tuned)\n",
    "print(\"Tuned Accuracy:\", accuracy_score(y_test, y_pred_tuned))"
   ]
  },
  {
   "cell_type": "markdown",
   "metadata": {},
   "source": [
    "The base decision tree likely overfits (high training accuracy but lower test accuracy) whiles the pruned tree (max_depth=5, min_samples_split=20, and min_samples_leaf=5) shows better generalization with a better accuracy and an improved confusion matrix balance."
   ]
  },
  {
   "cell_type": "markdown",
   "metadata": {
    "colab_type": "text",
    "id": "QwcecRukPrgw"
   },
   "source": [
    "#### Step 2\n",
    "\n",
    "Try to build the decision tree which you built for the previous question, but this time by RandomizedSearchCV over hyper-parameters. Compare the results."
   ]
  },
  {
   "cell_type": "code",
   "execution_count": 264,
   "metadata": {
    "colab": {},
    "colab_type": "code",
    "id": "4XHRmsWOPrgx"
   },
   "outputs": [
    {
     "name": "stdout",
     "output_type": "stream",
     "text": [
      "RandomizedSearchCV took 44.31 seconds \n",
      "\n",
      "\n",
      "Best Decision Tree from RandomizedSearchCV Confusion Matrix:\n",
      " [[4421  266]\n",
      " [ 823  490]]\n",
      "Best Parameters: {'min_samples_split': 2, 'min_samples_leaf': 2, 'max_depth': 5, 'criterion': 'gini'}\n",
      "Training accuracy after RandomizedSearchCV: 0.825125\n",
      "Accuracy after RandomizedSearchCV: 0.8185\n"
     ]
    }
   ],
   "source": [
    "param_dist = {\n",
    "    'max_depth': [3, 5, 10, None],\n",
    "    'min_samples_split': [2, 10, 20],\n",
    "    'min_samples_leaf': [1, 2, 5],\n",
    "    'criterion': ['gini', 'entropy']\n",
    "}\n",
    "random_search = RandomizedSearchCV(DecisionTreeClassifier(random_state=42), param_distributions=param_dist, \n",
    "                                   n_iter=10, cv=5, scoring='accuracy', random_state=42)\n",
    "start = time()\n",
    "random_search.fit(pip_train_X, pip_train_y)\n",
    "print(\"RandomizedSearchCV took %.2f seconds\" % ((time() - start)),'\\n')\n",
    "y_pred_rs = random_search.best_estimator_.predict(pip_test_X)\n",
    "cm_best = confusion_matrix(y_test, y_pred_rs)\n",
    "print(\"\\nBest Decision Tree from RandomizedSearchCV Confusion Matrix:\\n\", cm_best)\n",
    "\n",
    "print(\"Best Parameters:\", random_search.best_params_)\n",
    "print(\"Training accuracy after RandomizedSearchCV:\", random_search.score(pip_train_X, pip_train_y))\n",
    "print(\"Accuracy after RandomizedSearchCV:\", accuracy_score(y_test, y_pred_rs))"
   ]
  },
  {
   "cell_type": "markdown",
   "metadata": {},
   "source": [
    "For this particular case, the manual tuning of hyperparameter performed better than RandomizedSearchCV with no over fitting."
   ]
  },
  {
   "cell_type": "markdown",
   "metadata": {
    "colab_type": "text",
    "id": "dEvsYwiXPrg3"
   },
   "source": [
    "#### Step 3\n",
    "\n",
    "Try to build the same classifier by using following ensemble models. For each of these models calculate accuracy and at least for two in the list below, plot the learning curves.\n",
    "\n",
    "* Random Forest \n",
    "* AdaBoost\n",
    "* Extra Trees Classifier \n",
    "* Gradient Boosted Trees \n"
   ]
  },
  {
   "cell_type": "code",
   "execution_count": 268,
   "metadata": {},
   "outputs": [
    {
     "name": "stderr",
     "output_type": "stream",
     "text": [
      "C:\\Users\\frank\\anaconda3\\Lib\\site-packages\\sklearn\\ensemble\\_weight_boosting.py:527: FutureWarning: The SAMME.R algorithm (the default) is deprecated and will be removed in 1.6. Use the SAMME algorithm to circumvent this warning.\n",
      "  warnings.warn(\n"
     ]
    },
    {
     "name": "stdout",
     "output_type": "stream",
     "text": [
      "RandomForestClassifier 0.8141666666666667\n"
     ]
    },
    {
     "name": "stderr",
     "output_type": "stream",
     "text": [
      "C:\\Users\\frank\\anaconda3\\Lib\\site-packages\\sklearn\\ensemble\\_weight_boosting.py:527: FutureWarning: The SAMME.R algorithm (the default) is deprecated and will be removed in 1.6. Use the SAMME algorithm to circumvent this warning.\n",
      "  warnings.warn(\n"
     ]
    },
    {
     "name": "stdout",
     "output_type": "stream",
     "text": [
      "AdaBoostClassifier 0.8175\n",
      "ExtraTreesClassifier 0.8046666666666666\n",
      "GradientBoostingClassifier 0.8186666666666667\n"
     ]
    }
   ],
   "source": [
    "from sklearn.ensemble import VotingClassifier\n",
    "\n",
    "Random_Forest = RandomForestClassifier(n_estimators=100, random_state=42)\n",
    "AdaBoost = AdaBoostClassifier(n_estimators=50, random_state=42)\n",
    "Extra_Trees = ExtraTreesClassifier(n_estimators=100, random_state=42)\n",
    "Gradient_Boosting = GradientBoostingClassifier(n_estimators=100, random_state=42)\n",
    "\n",
    "voting_clf = VotingClassifier(\n",
    "    estimators=[('rf', Random_Forest), ('ada', AdaBoost), ('extra', Extra_Trees), ('gb', Gradient_Boosting) ],\n",
    "    voting='hard')\n",
    "\n",
    "voting_clf.fit(pip_train_X, pip_train_y)\n",
    "\n",
    "from sklearn.metrics import accuracy_score\n",
    "\n",
    "for clf in (Random_Forest, AdaBoost, Extra_Trees, Gradient_Boosting):\n",
    "    clf.fit(pip_train_X, pip_train_y)\n",
    "    y_pred = clf.predict(pip_test_X);\n",
    "    print(clf.__class__.__name__, accuracy_score(y_test, y_pred));"
   ]
  },
  {
   "cell_type": "markdown",
   "metadata": {},
   "source": [
    "Get the Learning Curves for Random Forest and AdaBoost"
   ]
  },
  {
   "cell_type": "code",
   "execution_count": 273,
   "metadata": {},
   "outputs": [
    {
     "data": {
      "image/png": "[encoded data removed]",
      "text/plain": [
       "<Figure size 640x480 with 1 Axes>"
      ]
     },
     "metadata": {},
     "output_type": "display_data"
    },
    {
     "data": {
      "image/png": "[encoded data removed]",
      "text/plain": [
       "<Figure size 640x480 with 1 Axes>"
      ]
     },
     "metadata": {},
     "output_type": "display_data"
    }
   ],
   "source": [
    "# Get the Learning Curves for Random Forest and AdaBoost\n",
    "def plot_learning_curve(estimator, title, X, y, cv=5):\n",
    "    train_sizes, train_scores, test_scores = learning_curve(\n",
    "        estimator, X, y, cv=cv, scoring='accuracy'\n",
    "    )\n",
    "    plt.figure()\n",
    "    plt.title(title)\n",
    "    plt.xlabel(\"Training examples\")\n",
    "    plt.ylabel(\"Score\")\n",
    "    plt.plot(train_sizes, np.mean(train_scores, axis=1), 'o-', label=\"Training Accuracy\")\n",
    "    plt.plot(train_sizes, np.mean(test_scores, axis=1), 'o-', label=\"Validation Accuracy\")\n",
    "    plt.legend()\n",
    "    plt.show()\n",
    "\n",
    "plot_learning_curve(Random_Forest, \"Random Forest Learning Curve\", pip_train_X, pip_train_y)\n",
    "plot_learning_curve(Gradient_Boosting, \"Gradient Boosting Learning Curve\", pip_train_X, pip_train_y)"
   ]
  },
  {
   "cell_type": "markdown",
   "metadata": {
    "colab_type": "text",
    "id": "qwyr2ulhPrg8"
   },
   "source": [
    "#### Step 4\n",
    "\n",
    "Discuss and compare the results for the all past three questions. \n",
    "\n",
    "* How does changing hyperparms effect model performance? \n",
    "* Why do you think certain models performed better/worse? \n",
    "* How does this performance line up with known strengths/weakness of these models?"
   ]
  },
  {
   "cell_type": "markdown",
   "metadata": {},
   "source": [
    "##### Discussion\n",
    "* Hyperparameter Impact: Changing hyperparameters like max depth, min samples split, and min samples leaf affected model performance by improving model accuracy. A deeper tree captures more patterns but can overfit, while a shallower tree generalizes better. Hyperparameter tuning via RandomizedSearchCV improved accuracy and reduced overfitting.\n",
    "\n",
    "* Model Performance: Random Forest and Gradient Boosting outperform single trees due to aggregation of predictions. Gradient Boosting often leads due to sequential error correction.\n",
    "\n",
    "* Strengths/Weaknesses:\n",
    "\n",
    "  Decision Trees: Interpretable but prone to overfitting.\n",
    "\n",
    "  Random Forest: Robust to noise, handles high dimensionality, and reduce overfitting by averaging multiple trees.\n",
    "\n",
    "  AdaBoost: Performed slightly worse because it is sensitive to noisy data and outliers.\n",
    "\n",
    "  \n",
    "  Boosting Methods: High accuracy because it builds models sequentially, correcting previous errors and leading to higher predictive accuracy but sensitive to noisy data."
   ]
  }
 ],
 "metadata": {
  "colab": {
   "collapsed_sections": [],
   "name": "Assignment 4_modified.ipynb",
   "provenance": [],
   "version": "0.3.2"
  },
  "kernelspec": {
   "display_name": "Python [conda env:base] *",
   "language": "python",
   "name": "conda-base-py"
  },
  "language_info": {
   "codemirror_mode": {
    "name": "ipython",
    "version": 3
   },
   "file_extension": ".py",
   "mimetype": "text/x-python",
   "name": "python",
   "nbconvert_exporter": "python",
   "pygments_lexer": "ipython3",
   "version": "3.11.5"
  }
 },
 "nbformat": 4,
 "nbformat_minor": 4
}
